{
 "cells": [
  {
   "cell_type": "markdown",
   "metadata": {},
   "source": [
    "# Fibre throughput"
   ]
  },
  {
   "cell_type": "markdown",
   "metadata": {
    "vscode": {
     "languageId": "plaintext"
    }
   },
   "source": [
    "## Data selection\n",
    "\n",
    "The first step is to select the desired grating from the `/data/koala` directory\n",
    "\n",
    "The `580V` grating extends from $\\sim3700 \\AA$ to $\\sim6000\\,\\AA$, whereas the `385R` grating covers the wavelength range $\\sim6000-9000\\,\\AA$"
   ]
  },
  {
   "cell_type": "code",
   "execution_count": null,
   "metadata": {},
   "outputs": [],
   "source": [
    "# Select the AAOMEGA grating (580V -> blue arm, 385R -> red arm)\n",
    "aaomega_gratings = {'580V': 1, '385R': 2}\n",
    "grating = '385R'"
   ]
  },
  {
   "cell_type": "code",
   "execution_count": null,
   "metadata": {},
   "outputs": [],
   "source": [
    "import os\n",
    "from matplotlib import pyplot as plt\n",
    "\n",
    "from pykoala.instruments.koala_ifu import koala_rss\n",
    "from pykoala.rss import combine_rss\n",
    "from pykoala.plotting.utils import plot_fibres\n",
    "from pykoala.corrections.throughput import ThroughputCorrection"
   ]
  },
  {
   "cell_type": "markdown",
   "metadata": {},
   "source": [
    "## Prepare the input data\n",
    "\n",
    "First, let's load the example twilight frames that we will use to compute the throughput"
   ]
  },
  {
   "cell_type": "code",
   "execution_count": null,
   "metadata": {},
   "outputs": [],
   "source": [
    "rss = []\n",
    "for i in [9, 10, 11, 12]:\n",
    "    rss.append(\n",
    "        koala_rss(\n",
    "            os.path.join(\"..\", \"data\", \"koala\", grating,\n",
    "                         f\"27feb{aaomega_gratings[grating]}00{i:02d}red.fits\")\n",
    "                         )\n",
    "            )"
   ]
  },
  {
   "cell_type": "code",
   "execution_count": null,
   "metadata": {},
   "outputs": [],
   "source": [
    "_ = rss[0].plot_rss_image()"
   ]
  },
  {
   "cell_type": "code",
   "execution_count": null,
   "metadata": {},
   "outputs": [],
   "source": [
    "thoughput_correction = ThroughputCorrection.from_rss(rss, medfilt=25)"
   ]
  },
  {
   "cell_type": "code",
   "execution_count": null,
   "metadata": {},
   "outputs": [],
   "source": [
    "fig = thoughput_correction.throughput.plot()"
   ]
  }
 ],
 "metadata": {
  "kernelspec": {
   "display_name": "base",
   "language": "python",
   "name": "python3"
  },
  "language_info": {
   "codemirror_mode": {
    "name": "ipython",
    "version": 3
   },
   "file_extension": ".py",
   "mimetype": "text/x-python",
   "name": "python",
   "nbconvert_exporter": "python",
   "pygments_lexer": "ipython3",
   "version": "3.11.5"
  }
 },
 "nbformat": 4,
 "nbformat_minor": 2
}
